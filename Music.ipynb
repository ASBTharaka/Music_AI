{
  "nbformat": 4,
  "nbformat_minor": 0,
  "metadata": {
    "colab": {
      "provenance": [],
      "mount_file_id": "11fotm3hwHnHoNMmxHx38HWMrYXrS32ay",
      "authorship_tag": "ABX9TyMqdpadg4C3H3omrtzUh0Vs",
      "include_colab_link": true
    },
    "kernelspec": {
      "name": "python3",
      "display_name": "Python 3"
    },
    "language_info": {
      "name": "python"
    }
  },
  "cells": [
    {
      "cell_type": "markdown",
      "metadata": {
        "id": "view-in-github",
        "colab_type": "text"
      },
      "source": [
        "<a href=\"https://colab.research.google.com/github/ASBTharaka/Music_AI/blob/main/Music.ipynb\" target=\"_parent\"><img src=\"https://colab.research.google.com/assets/colab-badge.svg\" alt=\"Open In Colab\"/></a>"
      ]
    },
    {
      "cell_type": "code",
      "execution_count": 2,
      "metadata": {
        "colab": {
          "base_uri": "https://localhost:8080/"
        },
        "id": "kvlK3NuOXTYg",
        "outputId": "0b1bd05d-dadf-41e2-ed67-07bf4b513fd9"
      },
      "outputs": [
        {
          "output_type": "stream",
          "name": "stdout",
          "text": [
            "Requirement already satisfied: music21 in /usr/local/lib/python3.12/dist-packages (9.3.0)\n",
            "Requirement already satisfied: chardet in /usr/local/lib/python3.12/dist-packages (from music21) (5.2.0)\n",
            "Requirement already satisfied: joblib in /usr/local/lib/python3.12/dist-packages (from music21) (1.5.2)\n",
            "Requirement already satisfied: jsonpickle in /usr/local/lib/python3.12/dist-packages (from music21) (4.1.1)\n",
            "Requirement already satisfied: matplotlib in /usr/local/lib/python3.12/dist-packages (from music21) (3.10.0)\n",
            "Requirement already satisfied: more-itertools in /usr/local/lib/python3.12/dist-packages (from music21) (10.8.0)\n",
            "Requirement already satisfied: numpy in /usr/local/lib/python3.12/dist-packages (from music21) (2.0.2)\n",
            "Requirement already satisfied: requests in /usr/local/lib/python3.12/dist-packages (from music21) (2.32.4)\n",
            "Requirement already satisfied: webcolors>=1.5 in /usr/local/lib/python3.12/dist-packages (from music21) (24.11.1)\n",
            "Requirement already satisfied: contourpy>=1.0.1 in /usr/local/lib/python3.12/dist-packages (from matplotlib->music21) (1.3.3)\n",
            "Requirement already satisfied: cycler>=0.10 in /usr/local/lib/python3.12/dist-packages (from matplotlib->music21) (0.12.1)\n",
            "Requirement already satisfied: fonttools>=4.22.0 in /usr/local/lib/python3.12/dist-packages (from matplotlib->music21) (4.59.2)\n",
            "Requirement already satisfied: kiwisolver>=1.3.1 in /usr/local/lib/python3.12/dist-packages (from matplotlib->music21) (1.4.9)\n",
            "Requirement already satisfied: packaging>=20.0 in /usr/local/lib/python3.12/dist-packages (from matplotlib->music21) (25.0)\n",
            "Requirement already satisfied: pillow>=8 in /usr/local/lib/python3.12/dist-packages (from matplotlib->music21) (11.3.0)\n",
            "Requirement already satisfied: pyparsing>=2.3.1 in /usr/local/lib/python3.12/dist-packages (from matplotlib->music21) (3.2.3)\n",
            "Requirement already satisfied: python-dateutil>=2.7 in /usr/local/lib/python3.12/dist-packages (from matplotlib->music21) (2.9.0.post0)\n",
            "Requirement already satisfied: charset_normalizer<4,>=2 in /usr/local/lib/python3.12/dist-packages (from requests->music21) (3.4.3)\n",
            "Requirement already satisfied: idna<4,>=2.5 in /usr/local/lib/python3.12/dist-packages (from requests->music21) (3.10)\n",
            "Requirement already satisfied: urllib3<3,>=1.21.1 in /usr/local/lib/python3.12/dist-packages (from requests->music21) (2.5.0)\n",
            "Requirement already satisfied: certifi>=2017.4.17 in /usr/local/lib/python3.12/dist-packages (from requests->music21) (2025.8.3)\n",
            "Requirement already satisfied: six>=1.5 in /usr/local/lib/python3.12/dist-packages (from python-dateutil>=2.7->matplotlib->music21) (1.17.0)\n"
          ]
        }
      ],
      "source": [
        "pip install music21"
      ]
    },
    {
      "cell_type": "code",
      "source": [
        "import pandas as pd\n"
      ],
      "metadata": {
        "id": "KVIEbLFyaBYW"
      },
      "execution_count": 3,
      "outputs": []
    },
    {
      "cell_type": "code",
      "source": [
        "df=pd.read_csv(\"/content/drive/MyDrive/Music/train/chorale_000.csv\")\n",
        "df"
      ],
      "metadata": {
        "colab": {
          "base_uri": "https://localhost:8080/",
          "height": 423
        },
        "id": "laChwYHsaJrb",
        "outputId": "17679cbb-8aab-42f6-cacd-ff405a092ac6"
      },
      "execution_count": 4,
      "outputs": [
        {
          "output_type": "execute_result",
          "data": {
            "text/plain": [
              "     note0  note1  note2  note3\n",
              "0       74     70     65     58\n",
              "1       74     70     65     58\n",
              "2       74     70     65     58\n",
              "3       74     70     65     58\n",
              "4       75     70     58     55\n",
              "..     ...    ...    ...    ...\n",
              "187     70     65     62     46\n",
              "188     70     65     62     46\n",
              "189     70     65     62     46\n",
              "190     70     65     62     46\n",
              "191     70     65     62     46\n",
              "\n",
              "[192 rows x 4 columns]"
            ],
            "text/html": [
              "\n",
              "  <div id=\"df-88f48939-e72d-4d90-944c-4853595c4432\" class=\"colab-df-container\">\n",
              "    <div>\n",
              "<style scoped>\n",
              "    .dataframe tbody tr th:only-of-type {\n",
              "        vertical-align: middle;\n",
              "    }\n",
              "\n",
              "    .dataframe tbody tr th {\n",
              "        vertical-align: top;\n",
              "    }\n",
              "\n",
              "    .dataframe thead th {\n",
              "        text-align: right;\n",
              "    }\n",
              "</style>\n",
              "<table border=\"1\" class=\"dataframe\">\n",
              "  <thead>\n",
              "    <tr style=\"text-align: right;\">\n",
              "      <th></th>\n",
              "      <th>note0</th>\n",
              "      <th>note1</th>\n",
              "      <th>note2</th>\n",
              "      <th>note3</th>\n",
              "    </tr>\n",
              "  </thead>\n",
              "  <tbody>\n",
              "    <tr>\n",
              "      <th>0</th>\n",
              "      <td>74</td>\n",
              "      <td>70</td>\n",
              "      <td>65</td>\n",
              "      <td>58</td>\n",
              "    </tr>\n",
              "    <tr>\n",
              "      <th>1</th>\n",
              "      <td>74</td>\n",
              "      <td>70</td>\n",
              "      <td>65</td>\n",
              "      <td>58</td>\n",
              "    </tr>\n",
              "    <tr>\n",
              "      <th>2</th>\n",
              "      <td>74</td>\n",
              "      <td>70</td>\n",
              "      <td>65</td>\n",
              "      <td>58</td>\n",
              "    </tr>\n",
              "    <tr>\n",
              "      <th>3</th>\n",
              "      <td>74</td>\n",
              "      <td>70</td>\n",
              "      <td>65</td>\n",
              "      <td>58</td>\n",
              "    </tr>\n",
              "    <tr>\n",
              "      <th>4</th>\n",
              "      <td>75</td>\n",
              "      <td>70</td>\n",
              "      <td>58</td>\n",
              "      <td>55</td>\n",
              "    </tr>\n",
              "    <tr>\n",
              "      <th>...</th>\n",
              "      <td>...</td>\n",
              "      <td>...</td>\n",
              "      <td>...</td>\n",
              "      <td>...</td>\n",
              "    </tr>\n",
              "    <tr>\n",
              "      <th>187</th>\n",
              "      <td>70</td>\n",
              "      <td>65</td>\n",
              "      <td>62</td>\n",
              "      <td>46</td>\n",
              "    </tr>\n",
              "    <tr>\n",
              "      <th>188</th>\n",
              "      <td>70</td>\n",
              "      <td>65</td>\n",
              "      <td>62</td>\n",
              "      <td>46</td>\n",
              "    </tr>\n",
              "    <tr>\n",
              "      <th>189</th>\n",
              "      <td>70</td>\n",
              "      <td>65</td>\n",
              "      <td>62</td>\n",
              "      <td>46</td>\n",
              "    </tr>\n",
              "    <tr>\n",
              "      <th>190</th>\n",
              "      <td>70</td>\n",
              "      <td>65</td>\n",
              "      <td>62</td>\n",
              "      <td>46</td>\n",
              "    </tr>\n",
              "    <tr>\n",
              "      <th>191</th>\n",
              "      <td>70</td>\n",
              "      <td>65</td>\n",
              "      <td>62</td>\n",
              "      <td>46</td>\n",
              "    </tr>\n",
              "  </tbody>\n",
              "</table>\n",
              "<p>192 rows × 4 columns</p>\n",
              "</div>\n",
              "    <div class=\"colab-df-buttons\">\n",
              "\n",
              "  <div class=\"colab-df-container\">\n",
              "    <button class=\"colab-df-convert\" onclick=\"convertToInteractive('df-88f48939-e72d-4d90-944c-4853595c4432')\"\n",
              "            title=\"Convert this dataframe to an interactive table.\"\n",
              "            style=\"display:none;\">\n",
              "\n",
              "  <svg xmlns=\"http://www.w3.org/2000/svg\" height=\"24px\" viewBox=\"0 -960 960 960\">\n",
              "    <path d=\"M120-120v-720h720v720H120Zm60-500h600v-160H180v160Zm220 220h160v-160H400v160Zm0 220h160v-160H400v160ZM180-400h160v-160H180v160Zm440 0h160v-160H620v160ZM180-180h160v-160H180v160Zm440 0h160v-160H620v160Z\"/>\n",
              "  </svg>\n",
              "    </button>\n",
              "\n",
              "  <style>\n",
              "    .colab-df-container {\n",
              "      display:flex;\n",
              "      gap: 12px;\n",
              "    }\n",
              "\n",
              "    .colab-df-convert {\n",
              "      background-color: #E8F0FE;\n",
              "      border: none;\n",
              "      border-radius: 50%;\n",
              "      cursor: pointer;\n",
              "      display: none;\n",
              "      fill: #1967D2;\n",
              "      height: 32px;\n",
              "      padding: 0 0 0 0;\n",
              "      width: 32px;\n",
              "    }\n",
              "\n",
              "    .colab-df-convert:hover {\n",
              "      background-color: #E2EBFA;\n",
              "      box-shadow: 0px 1px 2px rgba(60, 64, 67, 0.3), 0px 1px 3px 1px rgba(60, 64, 67, 0.15);\n",
              "      fill: #174EA6;\n",
              "    }\n",
              "\n",
              "    .colab-df-buttons div {\n",
              "      margin-bottom: 4px;\n",
              "    }\n",
              "\n",
              "    [theme=dark] .colab-df-convert {\n",
              "      background-color: #3B4455;\n",
              "      fill: #D2E3FC;\n",
              "    }\n",
              "\n",
              "    [theme=dark] .colab-df-convert:hover {\n",
              "      background-color: #434B5C;\n",
              "      box-shadow: 0px 1px 3px 1px rgba(0, 0, 0, 0.15);\n",
              "      filter: drop-shadow(0px 1px 2px rgba(0, 0, 0, 0.3));\n",
              "      fill: #FFFFFF;\n",
              "    }\n",
              "  </style>\n",
              "\n",
              "    <script>\n",
              "      const buttonEl =\n",
              "        document.querySelector('#df-88f48939-e72d-4d90-944c-4853595c4432 button.colab-df-convert');\n",
              "      buttonEl.style.display =\n",
              "        google.colab.kernel.accessAllowed ? 'block' : 'none';\n",
              "\n",
              "      async function convertToInteractive(key) {\n",
              "        const element = document.querySelector('#df-88f48939-e72d-4d90-944c-4853595c4432');\n",
              "        const dataTable =\n",
              "          await google.colab.kernel.invokeFunction('convertToInteractive',\n",
              "                                                    [key], {});\n",
              "        if (!dataTable) return;\n",
              "\n",
              "        const docLinkHtml = 'Like what you see? Visit the ' +\n",
              "          '<a target=\"_blank\" href=https://colab.research.google.com/notebooks/data_table.ipynb>data table notebook</a>'\n",
              "          + ' to learn more about interactive tables.';\n",
              "        element.innerHTML = '';\n",
              "        dataTable['output_type'] = 'display_data';\n",
              "        await google.colab.output.renderOutput(dataTable, element);\n",
              "        const docLink = document.createElement('div');\n",
              "        docLink.innerHTML = docLinkHtml;\n",
              "        element.appendChild(docLink);\n",
              "      }\n",
              "    </script>\n",
              "  </div>\n",
              "\n",
              "\n",
              "    <div id=\"df-3d2d53b3-4c3a-4a3f-a29e-65dc630d65b5\">\n",
              "      <button class=\"colab-df-quickchart\" onclick=\"quickchart('df-3d2d53b3-4c3a-4a3f-a29e-65dc630d65b5')\"\n",
              "                title=\"Suggest charts\"\n",
              "                style=\"display:none;\">\n",
              "\n",
              "<svg xmlns=\"http://www.w3.org/2000/svg\" height=\"24px\"viewBox=\"0 0 24 24\"\n",
              "     width=\"24px\">\n",
              "    <g>\n",
              "        <path d=\"M19 3H5c-1.1 0-2 .9-2 2v14c0 1.1.9 2 2 2h14c1.1 0 2-.9 2-2V5c0-1.1-.9-2-2-2zM9 17H7v-7h2v7zm4 0h-2V7h2v10zm4 0h-2v-4h2v4z\"/>\n",
              "    </g>\n",
              "</svg>\n",
              "      </button>\n",
              "\n",
              "<style>\n",
              "  .colab-df-quickchart {\n",
              "      --bg-color: #E8F0FE;\n",
              "      --fill-color: #1967D2;\n",
              "      --hover-bg-color: #E2EBFA;\n",
              "      --hover-fill-color: #174EA6;\n",
              "      --disabled-fill-color: #AAA;\n",
              "      --disabled-bg-color: #DDD;\n",
              "  }\n",
              "\n",
              "  [theme=dark] .colab-df-quickchart {\n",
              "      --bg-color: #3B4455;\n",
              "      --fill-color: #D2E3FC;\n",
              "      --hover-bg-color: #434B5C;\n",
              "      --hover-fill-color: #FFFFFF;\n",
              "      --disabled-bg-color: #3B4455;\n",
              "      --disabled-fill-color: #666;\n",
              "  }\n",
              "\n",
              "  .colab-df-quickchart {\n",
              "    background-color: var(--bg-color);\n",
              "    border: none;\n",
              "    border-radius: 50%;\n",
              "    cursor: pointer;\n",
              "    display: none;\n",
              "    fill: var(--fill-color);\n",
              "    height: 32px;\n",
              "    padding: 0;\n",
              "    width: 32px;\n",
              "  }\n",
              "\n",
              "  .colab-df-quickchart:hover {\n",
              "    background-color: var(--hover-bg-color);\n",
              "    box-shadow: 0 1px 2px rgba(60, 64, 67, 0.3), 0 1px 3px 1px rgba(60, 64, 67, 0.15);\n",
              "    fill: var(--button-hover-fill-color);\n",
              "  }\n",
              "\n",
              "  .colab-df-quickchart-complete:disabled,\n",
              "  .colab-df-quickchart-complete:disabled:hover {\n",
              "    background-color: var(--disabled-bg-color);\n",
              "    fill: var(--disabled-fill-color);\n",
              "    box-shadow: none;\n",
              "  }\n",
              "\n",
              "  .colab-df-spinner {\n",
              "    border: 2px solid var(--fill-color);\n",
              "    border-color: transparent;\n",
              "    border-bottom-color: var(--fill-color);\n",
              "    animation:\n",
              "      spin 1s steps(1) infinite;\n",
              "  }\n",
              "\n",
              "  @keyframes spin {\n",
              "    0% {\n",
              "      border-color: transparent;\n",
              "      border-bottom-color: var(--fill-color);\n",
              "      border-left-color: var(--fill-color);\n",
              "    }\n",
              "    20% {\n",
              "      border-color: transparent;\n",
              "      border-left-color: var(--fill-color);\n",
              "      border-top-color: var(--fill-color);\n",
              "    }\n",
              "    30% {\n",
              "      border-color: transparent;\n",
              "      border-left-color: var(--fill-color);\n",
              "      border-top-color: var(--fill-color);\n",
              "      border-right-color: var(--fill-color);\n",
              "    }\n",
              "    40% {\n",
              "      border-color: transparent;\n",
              "      border-right-color: var(--fill-color);\n",
              "      border-top-color: var(--fill-color);\n",
              "    }\n",
              "    60% {\n",
              "      border-color: transparent;\n",
              "      border-right-color: var(--fill-color);\n",
              "    }\n",
              "    80% {\n",
              "      border-color: transparent;\n",
              "      border-right-color: var(--fill-color);\n",
              "      border-bottom-color: var(--fill-color);\n",
              "    }\n",
              "    90% {\n",
              "      border-color: transparent;\n",
              "      border-bottom-color: var(--fill-color);\n",
              "    }\n",
              "  }\n",
              "</style>\n",
              "\n",
              "      <script>\n",
              "        async function quickchart(key) {\n",
              "          const quickchartButtonEl =\n",
              "            document.querySelector('#' + key + ' button');\n",
              "          quickchartButtonEl.disabled = true;  // To prevent multiple clicks.\n",
              "          quickchartButtonEl.classList.add('colab-df-spinner');\n",
              "          try {\n",
              "            const charts = await google.colab.kernel.invokeFunction(\n",
              "                'suggestCharts', [key], {});\n",
              "          } catch (error) {\n",
              "            console.error('Error during call to suggestCharts:', error);\n",
              "          }\n",
              "          quickchartButtonEl.classList.remove('colab-df-spinner');\n",
              "          quickchartButtonEl.classList.add('colab-df-quickchart-complete');\n",
              "        }\n",
              "        (() => {\n",
              "          let quickchartButtonEl =\n",
              "            document.querySelector('#df-3d2d53b3-4c3a-4a3f-a29e-65dc630d65b5 button');\n",
              "          quickchartButtonEl.style.display =\n",
              "            google.colab.kernel.accessAllowed ? 'block' : 'none';\n",
              "        })();\n",
              "      </script>\n",
              "    </div>\n",
              "\n",
              "  <div id=\"id_b376c125-a77c-4eda-aa37-690707531a1c\">\n",
              "    <style>\n",
              "      .colab-df-generate {\n",
              "        background-color: #E8F0FE;\n",
              "        border: none;\n",
              "        border-radius: 50%;\n",
              "        cursor: pointer;\n",
              "        display: none;\n",
              "        fill: #1967D2;\n",
              "        height: 32px;\n",
              "        padding: 0 0 0 0;\n",
              "        width: 32px;\n",
              "      }\n",
              "\n",
              "      .colab-df-generate:hover {\n",
              "        background-color: #E2EBFA;\n",
              "        box-shadow: 0px 1px 2px rgba(60, 64, 67, 0.3), 0px 1px 3px 1px rgba(60, 64, 67, 0.15);\n",
              "        fill: #174EA6;\n",
              "      }\n",
              "\n",
              "      [theme=dark] .colab-df-generate {\n",
              "        background-color: #3B4455;\n",
              "        fill: #D2E3FC;\n",
              "      }\n",
              "\n",
              "      [theme=dark] .colab-df-generate:hover {\n",
              "        background-color: #434B5C;\n",
              "        box-shadow: 0px 1px 3px 1px rgba(0, 0, 0, 0.15);\n",
              "        filter: drop-shadow(0px 1px 2px rgba(0, 0, 0, 0.3));\n",
              "        fill: #FFFFFF;\n",
              "      }\n",
              "    </style>\n",
              "    <button class=\"colab-df-generate\" onclick=\"generateWithVariable('df')\"\n",
              "            title=\"Generate code using this dataframe.\"\n",
              "            style=\"display:none;\">\n",
              "\n",
              "  <svg xmlns=\"http://www.w3.org/2000/svg\" height=\"24px\"viewBox=\"0 0 24 24\"\n",
              "       width=\"24px\">\n",
              "    <path d=\"M7,19H8.4L18.45,9,17,7.55,7,17.6ZM5,21V16.75L18.45,3.32a2,2,0,0,1,2.83,0l1.4,1.43a1.91,1.91,0,0,1,.58,1.4,1.91,1.91,0,0,1-.58,1.4L9.25,21ZM18.45,9,17,7.55Zm-12,3A5.31,5.31,0,0,0,4.9,8.1,5.31,5.31,0,0,0,1,6.5,5.31,5.31,0,0,0,4.9,4.9,5.31,5.31,0,0,0,6.5,1,5.31,5.31,0,0,0,8.1,4.9,5.31,5.31,0,0,0,12,6.5,5.46,5.46,0,0,0,6.5,12Z\"/>\n",
              "  </svg>\n",
              "    </button>\n",
              "    <script>\n",
              "      (() => {\n",
              "      const buttonEl =\n",
              "        document.querySelector('#id_b376c125-a77c-4eda-aa37-690707531a1c button.colab-df-generate');\n",
              "      buttonEl.style.display =\n",
              "        google.colab.kernel.accessAllowed ? 'block' : 'none';\n",
              "\n",
              "      buttonEl.onclick = () => {\n",
              "        google.colab.notebook.generateWithVariable('df');\n",
              "      }\n",
              "      })();\n",
              "    </script>\n",
              "  </div>\n",
              "\n",
              "    </div>\n",
              "  </div>\n"
            ],
            "application/vnd.google.colaboratory.intrinsic+json": {
              "type": "dataframe",
              "variable_name": "df",
              "summary": "{\n  \"name\": \"df\",\n  \"rows\": 192,\n  \"fields\": [\n    {\n      \"column\": \"note0\",\n      \"properties\": {\n        \"dtype\": \"number\",\n        \"std\": 2,\n        \"min\": 70,\n        \"max\": 79,\n        \"num_unique_values\": 6,\n        \"samples\": [\n          74,\n          75,\n          79\n        ],\n        \"semantic_type\": \"\",\n        \"description\": \"\"\n      }\n    },\n    {\n      \"column\": \"note1\",\n      \"properties\": {\n        \"dtype\": \"number\",\n        \"std\": 2,\n        \"min\": 63,\n        \"max\": 72,\n        \"num_unique_values\": 8,\n        \"samples\": [\n          69,\n          72,\n          70\n        ],\n        \"semantic_type\": \"\",\n        \"description\": \"\"\n      }\n    },\n    {\n      \"column\": \"note2\",\n      \"properties\": {\n        \"dtype\": \"number\",\n        \"std\": 3,\n        \"min\": 53,\n        \"max\": 65,\n        \"num_unique_values\": 10,\n        \"samples\": [\n          59,\n          58,\n          57\n        ],\n        \"semantic_type\": \"\",\n        \"description\": \"\"\n      }\n    },\n    {\n      \"column\": \"note3\",\n      \"properties\": {\n        \"dtype\": \"number\",\n        \"std\": 4,\n        \"min\": 43,\n        \"max\": 60,\n        \"num_unique_values\": 12,\n        \"samples\": [\n          45,\n          56,\n          58\n        ],\n        \"semantic_type\": \"\",\n        \"description\": \"\"\n      }\n    }\n  ]\n}"
            }
          },
          "metadata": {},
          "execution_count": 4
        }
      ]
    },
    {
      "cell_type": "code",
      "source": [
        "import os\n",
        "\n",
        "# Base path in Google Drive\n",
        "base_path = \"/content/drive/MyDrive/Music\"\n",
        "\n",
        "train_dir = os.path.join(base_path, \"train\")\n",
        "valid_dir = os.path.join(base_path, \"valid\")\n",
        "test_dir  = os.path.join(base_path, \"test\")\n",
        "\n",
        "train_files = sorted([os.path.join(train_dir, f) for f in os.listdir(train_dir) if f.endswith('.csv')])\n",
        "valid_files = sorted([os.path.join(valid_dir, f) for f in os.listdir(valid_dir) if f.endswith('.csv')])\n",
        "test_files  = sorted([os.path.join(test_dir, f)  for f in os.listdir(test_dir)  if f.endswith('.csv')])\n"
      ],
      "metadata": {
        "id": "0CryyjpIaxyQ"
      },
      "execution_count": 6,
      "outputs": []
    },
    {
      "cell_type": "code",
      "source": [
        "train_data=[pd.read_csv(f).values.tolist() for f in train_files]\n",
        "valid_data=[pd.read_csv(f).values.tolist() for f in valid_files]\n",
        "test_data=[pd.read_csv(f).values.tolist() for f in test_files]\n",
        "\n"
      ],
      "metadata": {
        "id": "ObaWGuuHkgiV"
      },
      "execution_count": 8,
      "outputs": []
    },
    {
      "cell_type": "code",
      "source": [
        "from music21 import stream, chord\n",
        "\n",
        "Music = train_data[20]\n",
        "s = stream.Stream()\n",
        "for row in Music:\n",
        "    s.append(chord.Chord([n for n in row if n], quarterLength=1))\n",
        "s.show('midi')"
      ],
      "metadata": {
        "colab": {
          "base_uri": "https://localhost:8080/",
          "height": 134
        },
        "id": "AkVsfMjwnNLB",
        "outputId": "177699ec-f547-4676-ef36-3a813bdc3112"
      },
      "execution_count": 9,
      "outputs": [
        {
          "output_type": "display_data",
          "data": {
            "text/plain": [
              "<IPython.core.display.HTML object>"
            ],
            "text/html": [
              "\n",
              "        <div id=\"midiPlayerDiv988\"></div>\n",
              "        <link rel=\"stylesheet\" href=\"https://cuthbertLab.github.io/music21j/css/m21.css\">\n",
              "        \n",
              "        <script\n",
              "        src=\"https://cdnjs.cloudflare.com/ajax/libs/require.js/2.3.6/require.min.js\"\n",
              "        ></script>\n",
              "    \n",
              "        <script>\n",
              "        function midiPlayerDiv988_play() {\n",
              "            const rq = require.config({\n",
              "                paths: {\n",
              "                    'music21': 'https://cuthbertLab.github.io/music21j/releases/music21.debug',\n",
              "                }\n",
              "            });\n",
              "            rq(['music21'], function(music21) {\n",
              "                mp = new music21.miditools.MidiPlayer();\n",
              "                mp.addPlayer(\"#midiPlayerDiv988\");\n",
              "                mp.base64Load(\"data:audio/midi;base64,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\");\n",
              "            });\n",
              "        }\n",
              "        if (typeof require === 'undefined') {\n",
              "            setTimeout(midiPlayerDiv988_play, 2000);\n",
              "        } else {\n",
              "            midiPlayerDiv988_play();\n",
              "        }\n",
              "        </script>"
            ]
          },
          "metadata": {}
        }
      ]
    },
    {
      "cell_type": "code",
      "source": [
        "#Lowest note: 36 -> C1\n",
        "#Highest note: 81 -> A5\n",
        "#Silence: 0\n",
        "\n",
        "#preprocessing\n",
        "import numpy as np\n",
        "\n",
        "min_note, max_note = 36, 81\n",
        "window_size, window_offset, batch_size = 32, 16, 32\n",
        "\n",
        "\n",
        "def make_xy(Music):\n",
        "    # get segments of 33 chords with 16 chords offset between them\n",
        "    windows = [c[i:i + window_size + 1] for c in Music for i in range(0, len(c) - window_size, window_offset)]\n",
        "\n",
        "    data = np.array(windows, dtype=int)\n",
        "    # if note is 0, keep it, otherwise rescale notes from 36-81 to 1-46\n",
        "    data = np.where(data==0, 0, data - min_note + 1)\n",
        "    # make the range 0-46 in total\n",
        "    data = np.clip(data, 0, max_note - min_note + 1)\n",
        "\n",
        "    flat = data.reshape(data.shape[0], -1)\n",
        "\n",
        "    # return every chord except the last one for X (32 notes) and everything except the first one for Y (32 notes)\n",
        "    return flat[:, :-1], flat[:, 1:]\n",
        "\n",
        "\n",
        "X_train, Y_train = make_xy(train_data)\n",
        "X_valid, Y_valid = make_xy(valid_data)\n",
        "X_test,  Y_test  = make_xy(test_data)\n"
      ],
      "metadata": {
        "id": "z1KICKUEnpjO"
      },
      "execution_count": 10,
      "outputs": []
    },
    {
      "cell_type": "code",
      "source": [
        "X_train.shape"
      ],
      "metadata": {
        "colab": {
          "base_uri": "https://localhost:8080/"
        },
        "id": "uotzdQIjpBB-",
        "outputId": "8f92ae9b-2907-4a92-974e-4a352e1f0af8"
      },
      "execution_count": 11,
      "outputs": [
        {
          "output_type": "execute_result",
          "data": {
            "text/plain": [
              "(3111, 131)"
            ]
          },
          "metadata": {},
          "execution_count": 11
        }
      ]
    },
    {
      "cell_type": "code",
      "source": [
        "Y_train.shape"
      ],
      "metadata": {
        "colab": {
          "base_uri": "https://localhost:8080/"
        },
        "id": "KDALT4cipHpG",
        "outputId": "0a7e373c-4b90-4273-8201-74a72c1a2c0f"
      },
      "execution_count": 12,
      "outputs": [
        {
          "output_type": "execute_result",
          "data": {
            "text/plain": [
              "(3111, 131)"
            ]
          },
          "metadata": {},
          "execution_count": 12
        }
      ]
    },
    {
      "cell_type": "code",
      "source": [
        "from tensorflow.keras.models import Sequential\n",
        "from tensorflow.keras.layers import Dense, Embedding, Conv1D, BatchNormalization, LSTM, Dropout\n",
        "from tensorflow.keras.optimizers import Nadam"
      ],
      "metadata": {
        "id": "wMK2x0HapIwc"
      },
      "execution_count": 13,
      "outputs": []
    },
    {
      "cell_type": "code",
      "source": [
        "train_notes = set([z for x in train_data for y in x for z in y])\n",
        "test_notes = set([z for x in test_data for y in x for z in y])\n",
        "valid_notes = set([z for x in valid_data for y in x for z in y])\n",
        "\n",
        "num_notes = len(set.union(train_notes, test_notes, valid_notes))\n",
        "num_notes"
      ],
      "metadata": {
        "colab": {
          "base_uri": "https://localhost:8080/"
        },
        "id": "DCDQA_gGpNyW",
        "outputId": "993e6973-ceb3-4249-a1af-c2e5543d2dbf"
      },
      "execution_count": 14,
      "outputs": [
        {
          "output_type": "execute_result",
          "data": {
            "text/plain": [
              "47"
            ]
          },
          "metadata": {},
          "execution_count": 14
        }
      ]
    },
    {
      "cell_type": "code",
      "source": [
        "model = Sequential()\n",
        "\n",
        "# Embedding layer so the model can learn representations of the notes (learns vector representation of notes)\n",
        "# Integers have no geometry, by learning embeddings, we can keep \"nearby\" notes close in vector space (e.g., same pitch-class, close octaves etc.)\n",
        "# Since we don't have too many notes, we can use a small dimensionality like 5\n",
        "model.add(Embedding(input_dim=num_notes, output_dim=5, input_shape=[None]))\n",
        "# 1D convs allow us to extract temporal patterns in parallel (unlike RNN layers)\n",
        "# 1D convs slide 1D kernels / filters over our feature vector to learn temporal patterns\n",
        "# Padding causal means we cannot look ahead, so we keep causality\n",
        "model.add(Conv1D(32, kernel_size=2, padding=\"causal\", activation=\"relu\"))  # here 32 filters of size 2\n",
        "# Batch norms after each conv keep activations well-scaled and consistent across the whole stack of layers\n",
        "# Counteracts vanishing / exploding gradients, allows for higher stable learning rates and faster training\n",
        "model.add(BatchNormalization())\n",
        "# Dilation rate means how much we look back\n",
        "# For example kernel size 2 and dilation rate of one means look at t and t-1\n",
        "# Kernel size 2 and dilation rate of two means look at t and t-2\n",
        "# Kernel size 2 and dilation rate of 16 means look at t and t-16\n",
        "# Stacking these increasing dilation rates allows us to efficiently cover short, medium and longer history\n",
        "# We grow the receptive field without using a lot of model parameters\n",
        "# We indirectly connect notes that are up to 32 positions apart\n",
        "model.add(Conv1D(48, kernel_size=2, padding=\"causal\", activation=\"relu\", dilation_rate=2))\n",
        "model.add(BatchNormalization())\n",
        "# Also, since we increase dilation rate, each conv layer sees a wider time span\n",
        "# More kernels / filters allow us to capture more kinds of patterns\n",
        "# If we don't increase this, we could end up with a bottleneck here\n",
        "model.add(Conv1D(64, kernel_size=2, padding=\"causal\", activation=\"relu\", dilation_rate=4))\n",
        "model.add(BatchNormalization())\n",
        "model.add(Conv1D(96, kernel_size=2, padding=\"causal\", activation=\"relu\", dilation_rate=8))\n",
        "model.add(BatchNormalization())\n",
        "model.add(Conv1D(128, kernel_size=2, padding=\"causal\", activation=\"relu\", dilation_rate=16))\n",
        "model.add(BatchNormalization())\n",
        "# Just a bit of regularization here so the model does not rely too much on individual features\n",
        "model.add(Dropout(0.05))\n",
        "# The conv layers summarized local and mid-range context into richer features for us\n",
        "# The LSTM now only has to track longer structure of the music\n",
        "# Doing LSTM first would lead to discovering local AND long patterns, which is slower and harder to optimize\n",
        "# Convs first is cheaper and parallelizable\n",
        "# We can basically combine the layers to look back 32 tokens (like a binary system numbers)\n",
        "model.add(LSTM(256, return_sequences=True))\n",
        "# Finally a dense layer to project the LSTM output to logits for each possible note\n",
        "model.add(Dense(num_notes, activation='softmax'))\n",
        "\n",
        "model.summary()"
      ],
      "metadata": {
        "colab": {
          "base_uri": "https://localhost:8080/",
          "height": 713
        },
        "id": "H53elqBypT6t",
        "outputId": "5537ae4e-fb79-42d5-94d4-5f2d29fa003b"
      },
      "execution_count": 15,
      "outputs": [
        {
          "output_type": "stream",
          "name": "stderr",
          "text": [
            "/usr/local/lib/python3.12/dist-packages/keras/src/layers/core/embedding.py:100: UserWarning: Do not pass an `input_shape`/`input_dim` argument to a layer. When using Sequential models, prefer using an `Input(shape)` object as the first layer in the model instead.\n",
            "  super().__init__(**kwargs)\n"
          ]
        },
        {
          "output_type": "display_data",
          "data": {
            "text/plain": [
              "\u001b[1mModel: \"sequential\"\u001b[0m\n"
            ],
            "text/html": [
              "<pre style=\"white-space:pre;overflow-x:auto;line-height:normal;font-family:Menlo,'DejaVu Sans Mono',consolas,'Courier New',monospace\"><span style=\"font-weight: bold\">Model: \"sequential\"</span>\n",
              "</pre>\n"
            ]
          },
          "metadata": {}
        },
        {
          "output_type": "display_data",
          "data": {
            "text/plain": [
              "┏━━━━━━━━━━━━━━━━━━━━━━━━━━━━━━━━━┳━━━━━━━━━━━━━━━━━━━━━━━━┳━━━━━━━━━━━━━━━┓\n",
              "┃\u001b[1m \u001b[0m\u001b[1mLayer (type)                   \u001b[0m\u001b[1m \u001b[0m┃\u001b[1m \u001b[0m\u001b[1mOutput Shape          \u001b[0m\u001b[1m \u001b[0m┃\u001b[1m \u001b[0m\u001b[1m      Param #\u001b[0m\u001b[1m \u001b[0m┃\n",
              "┡━━━━━━━━━━━━━━━━━━━━━━━━━━━━━━━━━╇━━━━━━━━━━━━━━━━━━━━━━━━╇━━━━━━━━━━━━━━━┩\n",
              "│ embedding (\u001b[38;5;33mEmbedding\u001b[0m)           │ (\u001b[38;5;45mNone\u001b[0m, \u001b[38;5;45mNone\u001b[0m, \u001b[38;5;34m5\u001b[0m)        │           \u001b[38;5;34m235\u001b[0m │\n",
              "├─────────────────────────────────┼────────────────────────┼───────────────┤\n",
              "│ conv1d (\u001b[38;5;33mConv1D\u001b[0m)                 │ (\u001b[38;5;45mNone\u001b[0m, \u001b[38;5;45mNone\u001b[0m, \u001b[38;5;34m32\u001b[0m)       │           \u001b[38;5;34m352\u001b[0m │\n",
              "├─────────────────────────────────┼────────────────────────┼───────────────┤\n",
              "│ batch_normalization             │ (\u001b[38;5;45mNone\u001b[0m, \u001b[38;5;45mNone\u001b[0m, \u001b[38;5;34m32\u001b[0m)       │           \u001b[38;5;34m128\u001b[0m │\n",
              "│ (\u001b[38;5;33mBatchNormalization\u001b[0m)            │                        │               │\n",
              "├─────────────────────────────────┼────────────────────────┼───────────────┤\n",
              "│ conv1d_1 (\u001b[38;5;33mConv1D\u001b[0m)               │ (\u001b[38;5;45mNone\u001b[0m, \u001b[38;5;45mNone\u001b[0m, \u001b[38;5;34m48\u001b[0m)       │         \u001b[38;5;34m3,120\u001b[0m │\n",
              "├─────────────────────────────────┼────────────────────────┼───────────────┤\n",
              "│ batch_normalization_1           │ (\u001b[38;5;45mNone\u001b[0m, \u001b[38;5;45mNone\u001b[0m, \u001b[38;5;34m48\u001b[0m)       │           \u001b[38;5;34m192\u001b[0m │\n",
              "│ (\u001b[38;5;33mBatchNormalization\u001b[0m)            │                        │               │\n",
              "├─────────────────────────────────┼────────────────────────┼───────────────┤\n",
              "│ conv1d_2 (\u001b[38;5;33mConv1D\u001b[0m)               │ (\u001b[38;5;45mNone\u001b[0m, \u001b[38;5;45mNone\u001b[0m, \u001b[38;5;34m64\u001b[0m)       │         \u001b[38;5;34m6,208\u001b[0m │\n",
              "├─────────────────────────────────┼────────────────────────┼───────────────┤\n",
              "│ batch_normalization_2           │ (\u001b[38;5;45mNone\u001b[0m, \u001b[38;5;45mNone\u001b[0m, \u001b[38;5;34m64\u001b[0m)       │           \u001b[38;5;34m256\u001b[0m │\n",
              "│ (\u001b[38;5;33mBatchNormalization\u001b[0m)            │                        │               │\n",
              "├─────────────────────────────────┼────────────────────────┼───────────────┤\n",
              "│ conv1d_3 (\u001b[38;5;33mConv1D\u001b[0m)               │ (\u001b[38;5;45mNone\u001b[0m, \u001b[38;5;45mNone\u001b[0m, \u001b[38;5;34m96\u001b[0m)       │        \u001b[38;5;34m12,384\u001b[0m │\n",
              "├─────────────────────────────────┼────────────────────────┼───────────────┤\n",
              "│ batch_normalization_3           │ (\u001b[38;5;45mNone\u001b[0m, \u001b[38;5;45mNone\u001b[0m, \u001b[38;5;34m96\u001b[0m)       │           \u001b[38;5;34m384\u001b[0m │\n",
              "│ (\u001b[38;5;33mBatchNormalization\u001b[0m)            │                        │               │\n",
              "├─────────────────────────────────┼────────────────────────┼───────────────┤\n",
              "│ conv1d_4 (\u001b[38;5;33mConv1D\u001b[0m)               │ (\u001b[38;5;45mNone\u001b[0m, \u001b[38;5;45mNone\u001b[0m, \u001b[38;5;34m128\u001b[0m)      │        \u001b[38;5;34m24,704\u001b[0m │\n",
              "├─────────────────────────────────┼────────────────────────┼───────────────┤\n",
              "│ batch_normalization_4           │ (\u001b[38;5;45mNone\u001b[0m, \u001b[38;5;45mNone\u001b[0m, \u001b[38;5;34m128\u001b[0m)      │           \u001b[38;5;34m512\u001b[0m │\n",
              "│ (\u001b[38;5;33mBatchNormalization\u001b[0m)            │                        │               │\n",
              "├─────────────────────────────────┼────────────────────────┼───────────────┤\n",
              "│ dropout (\u001b[38;5;33mDropout\u001b[0m)               │ (\u001b[38;5;45mNone\u001b[0m, \u001b[38;5;45mNone\u001b[0m, \u001b[38;5;34m128\u001b[0m)      │             \u001b[38;5;34m0\u001b[0m │\n",
              "├─────────────────────────────────┼────────────────────────┼───────────────┤\n",
              "│ lstm (\u001b[38;5;33mLSTM\u001b[0m)                     │ (\u001b[38;5;45mNone\u001b[0m, \u001b[38;5;45mNone\u001b[0m, \u001b[38;5;34m256\u001b[0m)      │       \u001b[38;5;34m394,240\u001b[0m │\n",
              "├─────────────────────────────────┼────────────────────────┼───────────────┤\n",
              "│ dense (\u001b[38;5;33mDense\u001b[0m)                   │ (\u001b[38;5;45mNone\u001b[0m, \u001b[38;5;45mNone\u001b[0m, \u001b[38;5;34m47\u001b[0m)       │        \u001b[38;5;34m12,079\u001b[0m │\n",
              "└─────────────────────────────────┴────────────────────────┴───────────────┘\n"
            ],
            "text/html": [
              "<pre style=\"white-space:pre;overflow-x:auto;line-height:normal;font-family:Menlo,'DejaVu Sans Mono',consolas,'Courier New',monospace\">┏━━━━━━━━━━━━━━━━━━━━━━━━━━━━━━━━━┳━━━━━━━━━━━━━━━━━━━━━━━━┳━━━━━━━━━━━━━━━┓\n",
              "┃<span style=\"font-weight: bold\"> Layer (type)                    </span>┃<span style=\"font-weight: bold\"> Output Shape           </span>┃<span style=\"font-weight: bold\">       Param # </span>┃\n",
              "┡━━━━━━━━━━━━━━━━━━━━━━━━━━━━━━━━━╇━━━━━━━━━━━━━━━━━━━━━━━━╇━━━━━━━━━━━━━━━┩\n",
              "│ embedding (<span style=\"color: #0087ff; text-decoration-color: #0087ff\">Embedding</span>)           │ (<span style=\"color: #00d7ff; text-decoration-color: #00d7ff\">None</span>, <span style=\"color: #00d7ff; text-decoration-color: #00d7ff\">None</span>, <span style=\"color: #00af00; text-decoration-color: #00af00\">5</span>)        │           <span style=\"color: #00af00; text-decoration-color: #00af00\">235</span> │\n",
              "├─────────────────────────────────┼────────────────────────┼───────────────┤\n",
              "│ conv1d (<span style=\"color: #0087ff; text-decoration-color: #0087ff\">Conv1D</span>)                 │ (<span style=\"color: #00d7ff; text-decoration-color: #00d7ff\">None</span>, <span style=\"color: #00d7ff; text-decoration-color: #00d7ff\">None</span>, <span style=\"color: #00af00; text-decoration-color: #00af00\">32</span>)       │           <span style=\"color: #00af00; text-decoration-color: #00af00\">352</span> │\n",
              "├─────────────────────────────────┼────────────────────────┼───────────────┤\n",
              "│ batch_normalization             │ (<span style=\"color: #00d7ff; text-decoration-color: #00d7ff\">None</span>, <span style=\"color: #00d7ff; text-decoration-color: #00d7ff\">None</span>, <span style=\"color: #00af00; text-decoration-color: #00af00\">32</span>)       │           <span style=\"color: #00af00; text-decoration-color: #00af00\">128</span> │\n",
              "│ (<span style=\"color: #0087ff; text-decoration-color: #0087ff\">BatchNormalization</span>)            │                        │               │\n",
              "├─────────────────────────────────┼────────────────────────┼───────────────┤\n",
              "│ conv1d_1 (<span style=\"color: #0087ff; text-decoration-color: #0087ff\">Conv1D</span>)               │ (<span style=\"color: #00d7ff; text-decoration-color: #00d7ff\">None</span>, <span style=\"color: #00d7ff; text-decoration-color: #00d7ff\">None</span>, <span style=\"color: #00af00; text-decoration-color: #00af00\">48</span>)       │         <span style=\"color: #00af00; text-decoration-color: #00af00\">3,120</span> │\n",
              "├─────────────────────────────────┼────────────────────────┼───────────────┤\n",
              "│ batch_normalization_1           │ (<span style=\"color: #00d7ff; text-decoration-color: #00d7ff\">None</span>, <span style=\"color: #00d7ff; text-decoration-color: #00d7ff\">None</span>, <span style=\"color: #00af00; text-decoration-color: #00af00\">48</span>)       │           <span style=\"color: #00af00; text-decoration-color: #00af00\">192</span> │\n",
              "│ (<span style=\"color: #0087ff; text-decoration-color: #0087ff\">BatchNormalization</span>)            │                        │               │\n",
              "├─────────────────────────────────┼────────────────────────┼───────────────┤\n",
              "│ conv1d_2 (<span style=\"color: #0087ff; text-decoration-color: #0087ff\">Conv1D</span>)               │ (<span style=\"color: #00d7ff; text-decoration-color: #00d7ff\">None</span>, <span style=\"color: #00d7ff; text-decoration-color: #00d7ff\">None</span>, <span style=\"color: #00af00; text-decoration-color: #00af00\">64</span>)       │         <span style=\"color: #00af00; text-decoration-color: #00af00\">6,208</span> │\n",
              "├─────────────────────────────────┼────────────────────────┼───────────────┤\n",
              "│ batch_normalization_2           │ (<span style=\"color: #00d7ff; text-decoration-color: #00d7ff\">None</span>, <span style=\"color: #00d7ff; text-decoration-color: #00d7ff\">None</span>, <span style=\"color: #00af00; text-decoration-color: #00af00\">64</span>)       │           <span style=\"color: #00af00; text-decoration-color: #00af00\">256</span> │\n",
              "│ (<span style=\"color: #0087ff; text-decoration-color: #0087ff\">BatchNormalization</span>)            │                        │               │\n",
              "├─────────────────────────────────┼────────────────────────┼───────────────┤\n",
              "│ conv1d_3 (<span style=\"color: #0087ff; text-decoration-color: #0087ff\">Conv1D</span>)               │ (<span style=\"color: #00d7ff; text-decoration-color: #00d7ff\">None</span>, <span style=\"color: #00d7ff; text-decoration-color: #00d7ff\">None</span>, <span style=\"color: #00af00; text-decoration-color: #00af00\">96</span>)       │        <span style=\"color: #00af00; text-decoration-color: #00af00\">12,384</span> │\n",
              "├─────────────────────────────────┼────────────────────────┼───────────────┤\n",
              "│ batch_normalization_3           │ (<span style=\"color: #00d7ff; text-decoration-color: #00d7ff\">None</span>, <span style=\"color: #00d7ff; text-decoration-color: #00d7ff\">None</span>, <span style=\"color: #00af00; text-decoration-color: #00af00\">96</span>)       │           <span style=\"color: #00af00; text-decoration-color: #00af00\">384</span> │\n",
              "│ (<span style=\"color: #0087ff; text-decoration-color: #0087ff\">BatchNormalization</span>)            │                        │               │\n",
              "├─────────────────────────────────┼────────────────────────┼───────────────┤\n",
              "│ conv1d_4 (<span style=\"color: #0087ff; text-decoration-color: #0087ff\">Conv1D</span>)               │ (<span style=\"color: #00d7ff; text-decoration-color: #00d7ff\">None</span>, <span style=\"color: #00d7ff; text-decoration-color: #00d7ff\">None</span>, <span style=\"color: #00af00; text-decoration-color: #00af00\">128</span>)      │        <span style=\"color: #00af00; text-decoration-color: #00af00\">24,704</span> │\n",
              "├─────────────────────────────────┼────────────────────────┼───────────────┤\n",
              "│ batch_normalization_4           │ (<span style=\"color: #00d7ff; text-decoration-color: #00d7ff\">None</span>, <span style=\"color: #00d7ff; text-decoration-color: #00d7ff\">None</span>, <span style=\"color: #00af00; text-decoration-color: #00af00\">128</span>)      │           <span style=\"color: #00af00; text-decoration-color: #00af00\">512</span> │\n",
              "│ (<span style=\"color: #0087ff; text-decoration-color: #0087ff\">BatchNormalization</span>)            │                        │               │\n",
              "├─────────────────────────────────┼────────────────────────┼───────────────┤\n",
              "│ dropout (<span style=\"color: #0087ff; text-decoration-color: #0087ff\">Dropout</span>)               │ (<span style=\"color: #00d7ff; text-decoration-color: #00d7ff\">None</span>, <span style=\"color: #00d7ff; text-decoration-color: #00d7ff\">None</span>, <span style=\"color: #00af00; text-decoration-color: #00af00\">128</span>)      │             <span style=\"color: #00af00; text-decoration-color: #00af00\">0</span> │\n",
              "├─────────────────────────────────┼────────────────────────┼───────────────┤\n",
              "│ lstm (<span style=\"color: #0087ff; text-decoration-color: #0087ff\">LSTM</span>)                     │ (<span style=\"color: #00d7ff; text-decoration-color: #00d7ff\">None</span>, <span style=\"color: #00d7ff; text-decoration-color: #00d7ff\">None</span>, <span style=\"color: #00af00; text-decoration-color: #00af00\">256</span>)      │       <span style=\"color: #00af00; text-decoration-color: #00af00\">394,240</span> │\n",
              "├─────────────────────────────────┼────────────────────────┼───────────────┤\n",
              "│ dense (<span style=\"color: #0087ff; text-decoration-color: #0087ff\">Dense</span>)                   │ (<span style=\"color: #00d7ff; text-decoration-color: #00d7ff\">None</span>, <span style=\"color: #00d7ff; text-decoration-color: #00d7ff\">None</span>, <span style=\"color: #00af00; text-decoration-color: #00af00\">47</span>)       │        <span style=\"color: #00af00; text-decoration-color: #00af00\">12,079</span> │\n",
              "└─────────────────────────────────┴────────────────────────┴───────────────┘\n",
              "</pre>\n"
            ]
          },
          "metadata": {}
        },
        {
          "output_type": "display_data",
          "data": {
            "text/plain": [
              "\u001b[1m Total params: \u001b[0m\u001b[38;5;34m454,794\u001b[0m (1.73 MB)\n"
            ],
            "text/html": [
              "<pre style=\"white-space:pre;overflow-x:auto;line-height:normal;font-family:Menlo,'DejaVu Sans Mono',consolas,'Courier New',monospace\"><span style=\"font-weight: bold\"> Total params: </span><span style=\"color: #00af00; text-decoration-color: #00af00\">454,794</span> (1.73 MB)\n",
              "</pre>\n"
            ]
          },
          "metadata": {}
        },
        {
          "output_type": "display_data",
          "data": {
            "text/plain": [
              "\u001b[1m Trainable params: \u001b[0m\u001b[38;5;34m454,058\u001b[0m (1.73 MB)\n"
            ],
            "text/html": [
              "<pre style=\"white-space:pre;overflow-x:auto;line-height:normal;font-family:Menlo,'DejaVu Sans Mono',consolas,'Courier New',monospace\"><span style=\"font-weight: bold\"> Trainable params: </span><span style=\"color: #00af00; text-decoration-color: #00af00\">454,058</span> (1.73 MB)\n",
              "</pre>\n"
            ]
          },
          "metadata": {}
        },
        {
          "output_type": "display_data",
          "data": {
            "text/plain": [
              "\u001b[1m Non-trainable params: \u001b[0m\u001b[38;5;34m736\u001b[0m (2.88 KB)\n"
            ],
            "text/html": [
              "<pre style=\"white-space:pre;overflow-x:auto;line-height:normal;font-family:Menlo,'DejaVu Sans Mono',consolas,'Courier New',monospace\"><span style=\"font-weight: bold\"> Non-trainable params: </span><span style=\"color: #00af00; text-decoration-color: #00af00\">736</span> (2.88 KB)\n",
              "</pre>\n"
            ]
          },
          "metadata": {}
        }
      ]
    },
    {
      "cell_type": "code",
      "source": [
        "optimizer = Nadam(learning_rate=1e-3)\n",
        "model.compile(loss='sparse_categorical_crossentropy', optimizer=optimizer, metrics=['accuracy'])\n",
        "\n",
        "model.fit(X_train, Y_train, epochs=20, validation_data=[X_valid, Y_valid], batch_size=batch_size)"
      ],
      "metadata": {
        "colab": {
          "base_uri": "https://localhost:8080/"
        },
        "id": "WH-qOigUpaAe",
        "outputId": "b18a4dc3-eb71-4e71-9ca0-a9d2bc15ecf2"
      },
      "execution_count": 16,
      "outputs": [
        {
          "output_type": "stream",
          "name": "stdout",
          "text": [
            "Epoch 1/20\n",
            "\u001b[1m98/98\u001b[0m \u001b[32m━━━━━━━━━━━━━━━━━━━━\u001b[0m\u001b[37m\u001b[0m \u001b[1m61s\u001b[0m 554ms/step - accuracy: 0.3200 - loss: 2.6337 - val_accuracy: 0.0785 - val_loss: 3.7808\n",
            "Epoch 2/20\n",
            "\u001b[1m98/98\u001b[0m \u001b[32m━━━━━━━━━━━━━━━━━━━━\u001b[0m\u001b[37m\u001b[0m \u001b[1m81s\u001b[0m 545ms/step - accuracy: 0.7516 - loss: 0.9414 - val_accuracy: 0.0992 - val_loss: 4.0371\n",
            "Epoch 3/20\n",
            "\u001b[1m98/98\u001b[0m \u001b[32m━━━━━━━━━━━━━━━━━━━━\u001b[0m\u001b[37m\u001b[0m \u001b[1m58s\u001b[0m 590ms/step - accuracy: 0.7930 - loss: 0.7449 - val_accuracy: 0.1597 - val_loss: 3.8526\n",
            "Epoch 4/20\n",
            "\u001b[1m98/98\u001b[0m \u001b[32m━━━━━━━━━━━━━━━━━━━━\u001b[0m\u001b[37m\u001b[0m \u001b[1m78s\u001b[0m 548ms/step - accuracy: 0.8088 - loss: 0.6650 - val_accuracy: 0.2312 - val_loss: 3.1572\n",
            "Epoch 5/20\n",
            "\u001b[1m98/98\u001b[0m \u001b[32m━━━━━━━━━━━━━━━━━━━━\u001b[0m\u001b[37m\u001b[0m \u001b[1m58s\u001b[0m 593ms/step - accuracy: 0.8199 - loss: 0.6115 - val_accuracy: 0.3175 - val_loss: 2.5169\n",
            "Epoch 6/20\n",
            "\u001b[1m98/98\u001b[0m \u001b[32m━━━━━━━━━━━━━━━━━━━━\u001b[0m\u001b[37m\u001b[0m \u001b[1m78s\u001b[0m 551ms/step - accuracy: 0.8302 - loss: 0.5666 - val_accuracy: 0.4963 - val_loss: 1.7158\n",
            "Epoch 7/20\n",
            "\u001b[1m98/98\u001b[0m \u001b[32m━━━━━━━━━━━━━━━━━━━━\u001b[0m\u001b[37m\u001b[0m \u001b[1m82s\u001b[0m 555ms/step - accuracy: 0.8385 - loss: 0.5346 - val_accuracy: 0.7838 - val_loss: 0.7428\n",
            "Epoch 8/20\n",
            "\u001b[1m98/98\u001b[0m \u001b[32m━━━━━━━━━━━━━━━━━━━━\u001b[0m\u001b[37m\u001b[0m \u001b[1m53s\u001b[0m 542ms/step - accuracy: 0.8479 - loss: 0.4989 - val_accuracy: 0.8176 - val_loss: 0.6239\n",
            "Epoch 9/20\n",
            "\u001b[1m98/98\u001b[0m \u001b[32m━━━━━━━━━━━━━━━━━━━━\u001b[0m\u001b[37m\u001b[0m \u001b[1m52s\u001b[0m 536ms/step - accuracy: 0.8560 - loss: 0.4691 - val_accuracy: 0.8182 - val_loss: 0.6225\n",
            "Epoch 10/20\n",
            "\u001b[1m98/98\u001b[0m \u001b[32m━━━━━━━━━━━━━━━━━━━━\u001b[0m\u001b[37m\u001b[0m \u001b[1m88s\u001b[0m 594ms/step - accuracy: 0.8616 - loss: 0.4478 - val_accuracy: 0.8218 - val_loss: 0.6099\n",
            "Epoch 11/20\n",
            "\u001b[1m98/98\u001b[0m \u001b[32m━━━━━━━━━━━━━━━━━━━━\u001b[0m\u001b[37m\u001b[0m \u001b[1m77s\u001b[0m 546ms/step - accuracy: 0.8691 - loss: 0.4227 - val_accuracy: 0.8223 - val_loss: 0.6111\n",
            "Epoch 12/20\n",
            "\u001b[1m98/98\u001b[0m \u001b[32m━━━━━━━━━━━━━━━━━━━━\u001b[0m\u001b[37m\u001b[0m \u001b[1m83s\u001b[0m 558ms/step - accuracy: 0.8769 - loss: 0.3954 - val_accuracy: 0.8240 - val_loss: 0.6042\n",
            "Epoch 13/20\n",
            "\u001b[1m98/98\u001b[0m \u001b[32m━━━━━━━━━━━━━━━━━━━━\u001b[0m\u001b[37m\u001b[0m \u001b[1m84s\u001b[0m 576ms/step - accuracy: 0.8813 - loss: 0.3786 - val_accuracy: 0.8231 - val_loss: 0.6125\n",
            "Epoch 14/20\n",
            "\u001b[1m98/98\u001b[0m \u001b[32m━━━━━━━━━━━━━━━━━━━━\u001b[0m\u001b[37m\u001b[0m \u001b[1m80s\u001b[0m 550ms/step - accuracy: 0.8866 - loss: 0.3643 - val_accuracy: 0.8193 - val_loss: 0.6206\n",
            "Epoch 15/20\n",
            "\u001b[1m98/98\u001b[0m \u001b[32m━━━━━━━━━━━━━━━━━━━━\u001b[0m\u001b[37m\u001b[0m \u001b[1m80s\u001b[0m 531ms/step - accuracy: 0.8903 - loss: 0.3506 - val_accuracy: 0.8186 - val_loss: 0.6289\n",
            "Epoch 16/20\n",
            "\u001b[1m98/98\u001b[0m \u001b[32m━━━━━━━━━━━━━━━━━━━━\u001b[0m\u001b[37m\u001b[0m \u001b[1m54s\u001b[0m 548ms/step - accuracy: 0.8973 - loss: 0.3286 - val_accuracy: 0.8192 - val_loss: 0.6284\n",
            "Epoch 17/20\n",
            "\u001b[1m98/98\u001b[0m \u001b[32m━━━━━━━━━━━━━━━━━━━━\u001b[0m\u001b[37m\u001b[0m \u001b[1m56s\u001b[0m 577ms/step - accuracy: 0.9014 - loss: 0.3137 - val_accuracy: 0.8160 - val_loss: 0.6509\n",
            "Epoch 18/20\n",
            "\u001b[1m98/98\u001b[0m \u001b[32m━━━━━━━━━━━━━━━━━━━━\u001b[0m\u001b[37m\u001b[0m \u001b[1m53s\u001b[0m 546ms/step - accuracy: 0.9048 - loss: 0.3020 - val_accuracy: 0.8209 - val_loss: 0.6388\n",
            "Epoch 19/20\n",
            "\u001b[1m98/98\u001b[0m \u001b[32m━━━━━━━━━━━━━━━━━━━━\u001b[0m\u001b[37m\u001b[0m \u001b[1m82s\u001b[0m 548ms/step - accuracy: 0.9088 - loss: 0.2891 - val_accuracy: 0.8197 - val_loss: 0.6475\n",
            "Epoch 20/20\n",
            "\u001b[1m98/98\u001b[0m \u001b[32m━━━━━━━━━━━━━━━━━━━━\u001b[0m\u001b[37m\u001b[0m \u001b[1m82s\u001b[0m 548ms/step - accuracy: 0.9137 - loss: 0.2754 - val_accuracy: 0.8179 - val_loss: 0.6601\n"
          ]
        },
        {
          "output_type": "execute_result",
          "data": {
            "text/plain": [
              "<keras.src.callbacks.history.History at 0x7dce20593b90>"
            ]
          },
          "metadata": {},
          "execution_count": 16
        }
      ]
    },
    {
      "cell_type": "code",
      "source": [
        "import numpy as np\n",
        "\n",
        "\n",
        "def sample_next_note(probs):\n",
        "    probabilities = np.asarray(probs, dtype=float)  # probabilities for each note to be the next\n",
        "\n",
        "    probs_sum = probabilities.sum()  # get the sum for normalization\n",
        "\n",
        "    # if the probability sum is zero, negative or infinite -> just return the note with the highest probability\n",
        "    if probs_sum <= 0 or not np.isfinite(probs_sum):\n",
        "        return int(np.argmax(probabilities))\n",
        "\n",
        "    probabilities /= probs_sum # otherwise normalize the probabilities to be between 0 and 1\n",
        "    return np.random.choice(len(probabilities), p=probabilities)  # randomly select a note based on probability\n",
        "\n",
        "\n",
        "def generate_chorale(model, seed_chords, length):\n",
        "    token_sequence = np.array(seed_chords, dtype=int)  # get starting chords / notes\n",
        "    token_sequence = np.where(token_sequence == 0, token_sequence, token_sequence - 36 + 1)  # map all notes to 0-46 as in training\n",
        "    token_sequence = token_sequence.reshape(1, -1)\n",
        "\n",
        "    # we generate note by note, not chord by chord\n",
        "    for _ in range(length * 4):\n",
        "        next_token_probabilities = model.predict(token_sequence, verbose=0)[0, -1]  # get probabilities for next note from model\n",
        "        next_token = sample_next_note(next_token_probabilities)  # sample from probabilities with sample function\n",
        "        token_sequence = np.concatenate([token_sequence, [[next_token]]], axis=1)\n",
        "\n",
        "    token_sequence = np.where(token_sequence == 0, token_sequence, token_sequence + 36 - 1)   # map to MIDI (0 & 36-81)\n",
        "\n",
        "    return token_sequence.reshape(-1, 4)"
      ],
      "metadata": {
        "id": "MF95NxX3u-U5"
      },
      "execution_count": 21,
      "outputs": []
    },
    {
      "cell_type": "code",
      "source": [
        "# Initial chords (seed)\n",
        "seed_chords = test_data[2][:8]\n",
        "\n",
        "Music = seed_chords\n",
        "s = stream.Stream()\n",
        "for row in Music:\n",
        "    s.append(chord.Chord([n for n in row if n], quarterLength=1))\n",
        "s.show('midi')"
      ],
      "metadata": {
        "colab": {
          "base_uri": "https://localhost:8080/",
          "height": 134
        },
        "id": "b8ey7a9dvPro",
        "outputId": "6e094981-b438-41af-b65c-03c77b0bfbdb"
      },
      "execution_count": 22,
      "outputs": [
        {
          "output_type": "display_data",
          "data": {
            "text/plain": [
              "<IPython.core.display.HTML object>"
            ],
            "text/html": [
              "\n",
              "        <div id=\"midiPlayerDiv2075\"></div>\n",
              "        <link rel=\"stylesheet\" href=\"https://cuthbertLab.github.io/music21j/css/m21.css\">\n",
              "        \n",
              "        <script\n",
              "        src=\"https://cdnjs.cloudflare.com/ajax/libs/require.js/2.3.6/require.min.js\"\n",
              "        ></script>\n",
              "    \n",
              "        <script>\n",
              "        function midiPlayerDiv2075_play() {\n",
              "            const rq = require.config({\n",
              "                paths: {\n",
              "                    'music21': 'https://cuthbertLab.github.io/music21j/releases/music21.debug',\n",
              "                }\n",
              "            });\n",
              "            rq(['music21'], function(music21) {\n",
              "                mp = new music21.miditools.MidiPlayer();\n",
              "                mp.addPlayer(\"#midiPlayerDiv2075\");\n",
              "                mp.base64Load(\"data:audio/midi;base64,TVRoZAAAAAYAAQACJ2BNVHJrAAAAFAD/UQMHoSAA/1gEBAIYCM5g/y8ATVRyawAAARYA/wMAAOAAQM5gkElaAJBEWgCQPVoAkDVazmCASQAAgEQAAIA9AACANQAAkElaAJBEWgCQPVoAkDVazmCASQAAgEQAAIA9AACANQAAkElaAJBEWgCQPVoAkDVazmCASQAAgEQAAIA9AACANQAAkElaAJBEWgCQPVoAkDVazmCASQAAgEQAAIA9AACANQAAkEVaAJBCWgCQPVoAkDZazmCARQAAgEIAAIA9AACANgAAkEVaAJBCWgCQPVoAkDZazmCARQAAgEIAAIA9AACANgAAkEVaAJBCWgCQPVoAkDZazmCARQAAgEIAAIA9AACANgAAkEVaAJBCWgCQPVoAkDZazmCARQAAgEIAAIA9AACANgDOYP8vAA==\");\n",
              "            });\n",
              "        }\n",
              "        if (typeof require === 'undefined') {\n",
              "            setTimeout(midiPlayerDiv2075_play, 2000);\n",
              "        } else {\n",
              "            midiPlayerDiv2075_play();\n",
              "        }\n",
              "        </script>"
            ]
          },
          "metadata": {}
        }
      ]
    },
    {
      "cell_type": "code",
      "source": [
        "# Complete actual chorale (ground truth)\n",
        "seed_chords = test_data[2]\n",
        "\n",
        "Music = seed_chords\n",
        "s = stream.Stream()\n",
        "for row in Music:\n",
        "    s.append(chord.Chord([n for n in row if n], quarterLength=1))\n",
        "s.show('midi')"
      ],
      "metadata": {
        "colab": {
          "base_uri": "https://localhost:8080/",
          "height": 134
        },
        "id": "mcXTIUyIvbyu",
        "outputId": "25a0cdf5-336c-4b39-d1ef-0260b2923f9b"
      },
      "execution_count": 23,
      "outputs": [
        {
          "output_type": "display_data",
          "data": {
            "text/plain": [
              "<IPython.core.display.HTML object>"
            ],
            "text/html": [
              "\n",
              "        <div id=\"midiPlayerDiv3064\"></div>\n",
              "        <link rel=\"stylesheet\" href=\"https://cuthbertLab.github.io/music21j/css/m21.css\">\n",
              "        \n",
              "        <script\n",
              "        src=\"https://cdnjs.cloudflare.com/ajax/libs/require.js/2.3.6/require.min.js\"\n",
              "        ></script>\n",
              "    \n",
              "        <script>\n",
              "        function midiPlayerDiv3064_play() {\n",
              "            const rq = require.config({\n",
              "                paths: {\n",
              "                    'music21': 'https://cuthbertLab.github.io/music21j/releases/music21.debug',\n",
              "                }\n",
              "            });\n",
              "            rq(['music21'], function(music21) {\n",
              "                mp = new music21.miditools.MidiPlayer();\n",
              "                mp.addPlayer(\"#midiPlayerDiv3064\");\n",
              "                mp.base64Load(\"data:audio/midi;base64,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\");\n",
              "            });\n",
              "        }\n",
              "        if (typeof require === 'undefined') {\n",
              "            setTimeout(midiPlayerDiv3064_play, 2000);\n",
              "        } else {\n",
              "            midiPlayerDiv3064_play();\n",
              "        }\n",
              "        </script>"
            ]
          },
          "metadata": {}
        }
      ]
    },
    {
      "cell_type": "code",
      "source": [
        "# Generate new chords based on initial two chords (8 notes)\n",
        "# Results can be better and more creative by introducing temperature, top_p etc.\n",
        "seed_Music = test_data[2][:8]\n",
        "new_Music =generate_chorale(model, seed_chords, 56)"
      ],
      "metadata": {
        "id": "RJctWa2gvmpI"
      },
      "execution_count": 25,
      "outputs": []
    },
    {
      "cell_type": "code",
      "source": [
        "new_Music"
      ],
      "metadata": {
        "colab": {
          "base_uri": "https://localhost:8080/"
        },
        "id": "7koLz9ULwiK4",
        "outputId": "7d48af72-110a-4a87-f2b2-58c0b5e28c7b"
      },
      "execution_count": 28,
      "outputs": [
        {
          "output_type": "execute_result",
          "data": {
            "text/plain": [
              "array([[73, 68, 61, 53],\n",
              "       [73, 68, 61, 53],\n",
              "       [73, 68, 61, 53],\n",
              "       ...,\n",
              "       [71, 67, 56, 49],\n",
              "       [71, 66, 56, 49],\n",
              "       [71, 66, 56, 49]])"
            ]
          },
          "metadata": {},
          "execution_count": 28
        }
      ]
    },
    {
      "cell_type": "code",
      "source": [
        "# listen to generated piece\n",
        "\n",
        "Music = new_Music.tolist()\n",
        "s = stream.Stream()\n",
        "for row in Music:\n",
        "    s.append(chord.Chord([n for n in row if n], quarterLength=1))\n",
        "s.show('midi')"
      ],
      "metadata": {
        "colab": {
          "base_uri": "https://localhost:8080/",
          "height": 134
        },
        "id": "JVq1qnccwsAn",
        "outputId": "afa5a7a6-6ad4-4f09-985a-00c2cca137f2"
      },
      "execution_count": 30,
      "outputs": [
        {
          "output_type": "display_data",
          "data": {
            "text/plain": [
              "<IPython.core.display.HTML object>"
            ],
            "text/html": [
              "\n",
              "        <div id=\"midiPlayerDiv4333\"></div>\n",
              "        <link rel=\"stylesheet\" href=\"https://cuthbertLab.github.io/music21j/css/m21.css\">\n",
              "        \n",
              "        <script\n",
              "        src=\"https://cdnjs.cloudflare.com/ajax/libs/require.js/2.3.6/require.min.js\"\n",
              "        ></script>\n",
              "    \n",
              "        <script>\n",
              "        function midiPlayerDiv4333_play() {\n",
              "            const rq = require.config({\n",
              "                paths: {\n",
              "                    'music21': 'https://cuthbertLab.github.io/music21j/releases/music21.debug',\n",
              "                }\n",
              "            });\n",
              "            rq(['music21'], function(music21) {\n",
              "                mp = new music21.miditools.MidiPlayer();\n",
              "                mp.addPlayer(\"#midiPlayerDiv4333\");\n",
              "                mp.base64Load(\"data:audio/midi;base64,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\");\n",
              "            });\n",
              "        }\n",
              "        if (typeof require === 'undefined') {\n",
              "            setTimeout(midiPlayerDiv4333_play, 2000);\n",
              "        } else {\n",
              "            midiPlayerDiv4333_play();\n",
              "        }\n",
              "        </script>"
            ]
          },
          "metadata": {}
        }
      ]
    },
    {
      "cell_type": "code",
      "source": [
        "import numpy as np\n",
        "\n",
        "def generate_random_music(length, rest_probability=0.2, pitch_low=36, pitch_high=81, seed=None):\n",
        "    rng = np.random.default_rng(seed)  # random number generator\n",
        "    random_pitches = rng.integers(pitch_low, pitch_high + 1, size=(length, 4))  # generate random notes\n",
        "\n",
        "    # some masking to have both silence and random pitches\n",
        "    rest_mask = rng.random((length, 4)) < float(rest_probability)\n",
        "    music = np.where(rest_mask, 0, random_pitches).astype(int)\n",
        "\n",
        "    return music\n"
      ],
      "metadata": {
        "id": "s9hyvxGrw6rM"
      },
      "execution_count": 32,
      "outputs": []
    },
    {
      "cell_type": "code",
      "source": [
        "# listen to completely random music to compare the quality to what our model generated\n",
        "Music= generate_random_music(56).tolist()\n",
        "s = stream.Stream()\n",
        "for row in Music:\n",
        "    s.append(chord.Chord([n for n in row if n], quarterLength=1))\n",
        "s.show('midi')"
      ],
      "metadata": {
        "colab": {
          "base_uri": "https://localhost:8080/",
          "height": 134
        },
        "id": "JkxBWdy9xcTg",
        "outputId": "b2761eac-831f-4a07-d175-69da0beed28c"
      },
      "execution_count": 33,
      "outputs": [
        {
          "output_type": "display_data",
          "data": {
            "text/plain": [
              "<IPython.core.display.HTML object>"
            ],
            "text/html": [
              "\n",
              "        <div id=\"midiPlayerDiv4622\"></div>\n",
              "        <link rel=\"stylesheet\" href=\"https://cuthbertLab.github.io/music21j/css/m21.css\">\n",
              "        \n",
              "        <script\n",
              "        src=\"https://cdnjs.cloudflare.com/ajax/libs/require.js/2.3.6/require.min.js\"\n",
              "        ></script>\n",
              "    \n",
              "        <script>\n",
              "        function midiPlayerDiv4622_play() {\n",
              "            const rq = require.config({\n",
              "                paths: {\n",
              "                    'music21': 'https://cuthbertLab.github.io/music21j/releases/music21.debug',\n",
              "                }\n",
              "            });\n",
              "            rq(['music21'], function(music21) {\n",
              "                mp = new music21.miditools.MidiPlayer();\n",
              "                mp.addPlayer(\"#midiPlayerDiv4622\");\n",
              "                mp.base64Load(\"data:audio/midi;base64,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\");\n",
              "            });\n",
              "        }\n",
              "        if (typeof require === 'undefined') {\n",
              "            setTimeout(midiPlayerDiv4622_play, 2000);\n",
              "        } else {\n",
              "            midiPlayerDiv4622_play();\n",
              "        }\n",
              "        </script>"
            ]
          },
          "metadata": {}
        }
      ]
    },
    {
      "cell_type": "code",
      "source": [
        "# save model\n",
        "model.save('bach_generation_conv1d_lstm.keras')"
      ],
      "metadata": {
        "id": "u0lLMM8Gxmb-"
      },
      "execution_count": 34,
      "outputs": []
    },
    {
      "cell_type": "code",
      "source": [
        "from tensorflow import keras\n",
        "\n",
        "loaded_model = keras.models.load_model(\"bach_generation_conv1d_lstm.keras\")"
      ],
      "metadata": {
        "id": "PSykNI3oxqQW"
      },
      "execution_count": 35,
      "outputs": []
    },
    {
      "cell_type": "code",
      "source": [
        "new_Music = generate_chorale(loaded_model, seed_chords, 56)"
      ],
      "metadata": {
        "id": "F-nakwaAxs7H"
      },
      "execution_count": 37,
      "outputs": []
    },
    {
      "cell_type": "code",
      "source": [
        "\n",
        "new_Music"
      ],
      "metadata": {
        "colab": {
          "base_uri": "https://localhost:8080/"
        },
        "id": "IV9LWwC8yP3R",
        "outputId": "fa89a4e9-d279-478c-95e7-1c290dcbf4fc"
      },
      "execution_count": 39,
      "outputs": [
        {
          "output_type": "execute_result",
          "data": {
            "text/plain": [
              "array([[73, 68, 61, 53],\n",
              "       [73, 68, 61, 53],\n",
              "       [73, 68, 61, 53],\n",
              "       ...,\n",
              "       [78, 66, 59, 59],\n",
              "       [78, 66, 59, 59],\n",
              "       [76, 69, 59, 47]])"
            ]
          },
          "metadata": {},
          "execution_count": 39
        }
      ]
    },
    {
      "cell_type": "code",
      "source": [
        "Music= generate_random_music(56).tolist()\n",
        "s = stream.Stream()\n",
        "for row in Music:\n",
        "    s.append(chord.Chord([n for n in row if n], quarterLength=1))\n",
        "s.show('midi')"
      ],
      "metadata": {
        "colab": {
          "base_uri": "https://localhost:8080/",
          "height": 134
        },
        "id": "giwVsi7lyeRX",
        "outputId": "3e4e7e9d-8b33-4bad-d355-20875b395c20"
      },
      "execution_count": 40,
      "outputs": [
        {
          "output_type": "display_data",
          "data": {
            "text/plain": [
              "<IPython.core.display.HTML object>"
            ],
            "text/html": [
              "\n",
              "        <div id=\"midiPlayerDiv4911\"></div>\n",
              "        <link rel=\"stylesheet\" href=\"https://cuthbertLab.github.io/music21j/css/m21.css\">\n",
              "        \n",
              "        <script\n",
              "        src=\"https://cdnjs.cloudflare.com/ajax/libs/require.js/2.3.6/require.min.js\"\n",
              "        ></script>\n",
              "    \n",
              "        <script>\n",
              "        function midiPlayerDiv4911_play() {\n",
              "            const rq = require.config({\n",
              "                paths: {\n",
              "                    'music21': 'https://cuthbertLab.github.io/music21j/releases/music21.debug',\n",
              "                }\n",
              "            });\n",
              "            rq(['music21'], function(music21) {\n",
              "                mp = new music21.miditools.MidiPlayer();\n",
              "                mp.addPlayer(\"#midiPlayerDiv4911\");\n",
              "                mp.base64Load(\"data:audio/midi;base64,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\");\n",
              "            });\n",
              "        }\n",
              "        if (typeof require === 'undefined') {\n",
              "            setTimeout(midiPlayerDiv4911_play, 2000);\n",
              "        } else {\n",
              "            midiPlayerDiv4911_play();\n",
              "        }\n",
              "        </script>"
            ]
          },
          "metadata": {}
        }
      ]
    }
  ]
}